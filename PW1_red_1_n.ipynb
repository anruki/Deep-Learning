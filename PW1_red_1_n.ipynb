{
  "nbformat": 4,
  "nbformat_minor": 0,
  "metadata": {
    "colab": {
      "provenance": []
    },
    "kernelspec": {
      "name": "python3",
      "display_name": "Python 3"
    },
    "language_info": {
      "name": "python"
    }
  },
  "cells": [
    {
      "cell_type": "code",
      "execution_count": 9,
      "metadata": {
        "colab": {
          "base_uri": "https://localhost:8080/"
        },
        "id": "lSXbowCioV3z",
        "outputId": "3681a01b-ee49-46b7-b73d-f4b604e04886"
      },
      "outputs": [
        {
          "output_type": "stream",
          "name": "stdout",
          "text": [
            "Descompresión completada.\n",
            "Directorio de entrenamiento encontrado: ./dataset/train\n",
            "Directorio de prueba encontrado: ./dataset/test\n",
            "Found 447 images belonging to 7 classes.\n",
            "Found 127 images belonging to 7 classes.\n",
            "Found 63 images belonging to 7 classes.\n"
          ]
        }
      ],
      "source": [
        "import os\n",
        "import zipfile\n",
        "import tensorflow as tf\n",
        "from tensorflow.keras.preprocessing.image import ImageDataGenerator\n",
        "import matplotlib.pyplot as plt\n",
        "\n",
        "# Ruta del archivo ZIP y carpeta destino\n",
        "local_zip = \"./practica_1_dataset.zip\"\n",
        "extract_folder = \"./dataset\"\n",
        "\n",
        "# Descomprimir el archivo ZIP\n",
        "with zipfile.ZipFile(local_zip, 'r') as zip_ref:\n",
        "    zip_ref.extractall(extract_folder)\n",
        "\n",
        "print(\"Descompresión completada.\")\n",
        "\n",
        "# Definir rutas de carpetas\n",
        "train_dir = os.path.join(extract_folder, 'train')\n",
        "test_dir = os.path.join(extract_folder, 'test')\n",
        "valid_dir = os.path.join(extract_folder, 'valid')  # Si existe un conjunto de validación\n",
        "\n",
        "# Verificar existencia de directorios\n",
        "if os.path.exists(train_dir) and os.path.exists(test_dir):\n",
        "    print(f\"Directorio de entrenamiento encontrado: {train_dir}\")\n",
        "    print(f\"Directorio de prueba encontrado: {test_dir}\")\n",
        "else:\n",
        "    raise FileNotFoundError(\"ERROR: Verifica que el ZIP contiene 'train/' y 'test/' correctamente.\")\n",
        "\n",
        "# Crear generador de imágenes con aumento de datos para entrenamiento\n",
        "train_datagen = ImageDataGenerator(\n",
        "      rescale=1./255,\n",
        "      rotation_range=30,\n",
        "      width_shift_range=0.2,\n",
        "      height_shift_range=0.2,\n",
        "      shear_range=0.2,\n",
        "      zoom_range=0.2,\n",
        "      horizontal_flip=True,\n",
        "      fill_mode='nearest')\n",
        "\n",
        "train_generator = train_datagen.flow_from_directory(\n",
        "        train_dir,\n",
        "        target_size=(96, 96),\n",
        "        batch_size=128,\n",
        "        color_mode=\"rgb\",\n",
        "        class_mode='categorical')\n",
        "\n",
        "# Generador de validación (si existe)\n",
        "if os.path.exists(valid_dir):\n",
        "    valid_datagen = ImageDataGenerator(rescale=1./255)\n",
        "    valid_generator = valid_datagen.flow_from_directory(\n",
        "        valid_dir,\n",
        "        target_size=(96, 96),\n",
        "        batch_size=128,\n",
        "        color_mode=\"rgb\",\n",
        "        class_mode='categorical')\n",
        "else:\n",
        "    valid_generator = None  # No hay validación\n",
        "\n",
        "# Generador de test\n",
        "test_datagen = ImageDataGenerator(rescale=1./255)\n",
        "test_generator = test_datagen.flow_from_directory(\n",
        "        test_dir,\n",
        "        target_size=(96, 96),\n",
        "        batch_size=128,\n",
        "        color_mode=\"rgb\",\n",
        "        class_mode='categorical')\n"
      ]
    },
    {
      "cell_type": "code",
      "source": [
        "import os\n",
        "\n",
        "# Función para listar clases y contar imágenes en cada una\n",
        "def contar_imagenes_en_carpetas(base_dir, folder_name):\n",
        "    folder_path = os.path.join(base_dir, folder_name)\n",
        "    if os.path.exists(folder_path):\n",
        "        print(f\"\\nEstructura de carpetas en '{folder_name}/':\\n\")\n",
        "        for class_name in os.listdir(folder_path):\n",
        "            class_path = os.path.join(folder_path, class_name)\n",
        "            if os.path.isdir(class_path):\n",
        "                num_images = len(os.listdir(class_path))\n",
        "                print(f\"Clase: {class_name} - {num_images} imágenes\")\n",
        "    else:\n",
        "        print(f\"\\nEl directorio '{folder_name}' no existe.\")\n",
        "\n",
        "# Rutas de los directorios\n",
        "base_dataset_folder = extract_folder  # La carpeta donde se descomprimió el dataset\n",
        "\n",
        "# Contar imágenes en train, valid y test\n",
        "contar_imagenes_en_carpetas(base_dataset_folder, 'train')\n",
        "contar_imagenes_en_carpetas(base_dataset_folder, 'valid')\n",
        "contar_imagenes_en_carpetas(base_dataset_folder, 'test')"
      ],
      "metadata": {
        "colab": {
          "base_uri": "https://localhost:8080/"
        },
        "id": "TdM-1k71Uo_b",
        "outputId": "8cb92481-f29c-4b85-c3b6-216306f62d3f"
      },
      "execution_count": 8,
      "outputs": [
        {
          "output_type": "stream",
          "name": "stdout",
          "text": [
            "\n",
            "Estructura de carpetas en 'train/':\n",
            "\n",
            "Clase: fish - 157 imágenes\n",
            "Clase: starfish - 33 imágenes\n",
            "Clase: penguin - 47 imágenes\n",
            "Clase: jellyfish - 31 imágenes\n",
            "Clase: puffin - 45 imágenes\n",
            "Clase: shark - 77 imágenes\n",
            "Clase: stingray - 57 imágenes\n",
            "\n",
            "Estructura de carpetas en 'valid/':\n",
            "\n",
            "Clase: fish - 47 imágenes\n",
            "Clase: starfish - 12 imágenes\n",
            "Clase: penguin - 17 imágenes\n",
            "Clase: jellyfish - 9 imágenes\n",
            "Clase: puffin - 15 imágenes\n",
            "Clase: shark - 11 imágenes\n",
            "Clase: stingray - 16 imágenes\n",
            "\n",
            "Estructura de carpetas en 'test/':\n",
            "\n",
            "Clase: fish - 16 imágenes\n",
            "Clase: starfish - 5 imágenes\n",
            "Clase: penguin - 7 imágenes\n",
            "Clase: jellyfish - 11 imágenes\n",
            "Clase: puffin - 6 imágenes\n",
            "Clase: shark - 10 imágenes\n",
            "Clase: stingray - 8 imágenes\n"
          ]
        }
      ]
    }
  ]
}